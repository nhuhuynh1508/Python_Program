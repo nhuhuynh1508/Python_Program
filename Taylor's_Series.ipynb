{
  "nbformat": 4,
  "nbformat_minor": 0,
  "metadata": {
    "colab": {
      "name": "Taylor's Series.ipynb",
      "provenance": [],
      "authorship_tag": "ABX9TyPrNW2HsXVJGf7Xhh+cPtLz",
      "include_colab_link": true
    },
    "kernelspec": {
      "name": "python3",
      "display_name": "Python 3"
    },
    "language_info": {
      "name": "python"
    }
  },
  "cells": [
    {
      "cell_type": "markdown",
      "metadata": {
        "id": "view-in-github",
        "colab_type": "text"
      },
      "source": [
        "<a href=\"https://colab.research.google.com/github/nhuhuynh1508/Python_Program/blob/main/Taylor's_Series.ipynb\" target=\"_parent\"><img src=\"https://colab.research.google.com/assets/colab-badge.svg\" alt=\"Open In Colab\"/></a>"
      ]
    },
    {
      "cell_type": "code",
      "metadata": {
        "colab": {
          "base_uri": "https://localhost:8080/"
        },
        "id": "Dim5Qz1xXnvs",
        "outputId": "2f8d1af6-e122-4add-ecf9-4663f0e1601e"
      },
      "source": [
        "x = int(input())\n",
        "y = int(input())\n",
        "z = int(input())\n",
        "\n",
        "if x % 2 == 0:\n",
        "    if y >= 20:\n",
        "        print(\"y is greater than or equal to 20\")\n",
        "    else:\n",
        "        print(\"y is less than 20\")\n",
        "else:\n",
        "    if z >= 30:\n",
        "        print(\"z is greater than or equal to 30\")\n",
        "    else:\n",
        "        print(\"z is less than 30\")"
      ],
      "execution_count": null,
      "outputs": [
        {
          "output_type": "stream",
          "name": "stdout",
          "text": [
            "10\n",
            "20\n",
            "30\n",
            "y is greater than or equal to 20\n"
          ]
        }
      ]
    },
    {
      "cell_type": "code",
      "metadata": {
        "colab": {
          "base_uri": "https://localhost:8080/"
        },
        "id": "H-fI9hxBMY89",
        "outputId": "934f50b7-c044-4884-84c3-94da53af15a8"
      },
      "source": [
        "# radian\n",
        "# compute sine\n",
        "import math\n",
        "\n",
        "def factorial(n):\n",
        "    result = 1\n",
        "    if (n>=1):\n",
        "        return n*factorial(n-1)\n",
        "    else:\n",
        "        return result\n",
        "\n",
        "def compute_sin(x, n):\n",
        "    result = 0\n",
        "    if (n>=0):\n",
        "        return math.pow(-1, n)* math.pow(x, 2*n+1) / (factorial(2*n+1)) + compute_sin(x, n-1)\n",
        "    else:\n",
        "        return result\n",
        "\n",
        "# test\n",
        "print(\"The result is:\", compute_sin(2, 20))\n",
        "\n"
      ],
      "execution_count": 3,
      "outputs": [
        {
          "output_type": "stream",
          "name": "stdout",
          "text": [
            "The result is: 0.9092974268256817\n"
          ]
        }
      ]
    },
    {
      "cell_type": "code",
      "metadata": {
        "id": "bpQmWkzROWyE"
      },
      "source": [
        "# radian\n",
        "# compute cosine\n",
        "\n",
        "import math\n",
        "def factorial(n):\n",
        "    result = 1\n",
        "    if (n>=1):\n",
        "        return n*factorial(n-1)\n",
        "    else:\n",
        "        return result\n",
        "\n",
        "def compute_cosine(x, n):\n",
        "    result = 0\n",
        "    if (n>=0):\n",
        "        return "
      ],
      "execution_count": null,
      "outputs": []
    }
  ]
}